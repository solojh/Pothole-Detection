{
 "cells": [
  {
   "cell_type": "code",
   "execution_count": 3,
   "id": "37466761",
   "metadata": {},
   "outputs": [],
   "source": [
    "import cv2\n",
    "import os\n",
    "\n",
    "def video_to_images(video_path, output_folder):\n",
    "    # Open the video file\n",
    "    vidcap = cv2.VideoCapture(video_path)\n",
    "    \n",
    "    # Create the output folder if it doesn't exist\n",
    "    if not os.path.exists(output_folder):\n",
    "        os.makedirs(output_folder)\n",
    "    \n",
    "    # Initialize variables\n",
    "    success, image = vidcap.read()\n",
    "    frame_count = 0\n",
    "    fps = vidcap.get(cv2.CAP_PROP_FPS)\n",
    "    interval_frames = int(fps)  # Number of frames to skip to get 1-second intervals\n",
    "    \n",
    "    # Loop through the video frames\n",
    "    while success:\n",
    "        # Write the frame to an image file\n",
    "        cv2.imwrite(os.path.join(output_folder, f\"frame_{frame_count}.jpg\"), image)\n",
    "        \n",
    "        # Skip frames to maintain 1-second intervals\n",
    "        for _ in range(interval_frames):\n",
    "            success, image = vidcap.read()\n",
    "            frame_count += 1\n",
    "\n",
    "if __name__ == \"__main__\":\n",
    "    # Input video file path\n",
    "    video_path = \"C:/Users/Admin/Desktop/Pothole/VID_1080hd_20240202_094213_10_029.mp4\"\n",
    "    \n",
    "    # Output folder to save images\n",
    "    output_folder = \"C:/Users/Admin/Desktop/Pothole/image2\"\n",
    "    \n",
    "    # Convert video to images\n",
    "    video_to_images(video_path, output_folder)\n"
   ]
  },
  {
   "cell_type": "code",
   "execution_count": null,
   "id": "71c85791",
   "metadata": {},
   "outputs": [],
   "source": []
  }
 ],
 "metadata": {
  "kernelspec": {
   "display_name": "Python 3 (ipykernel)",
   "language": "python",
   "name": "python3"
  },
  "language_info": {
   "codemirror_mode": {
    "name": "ipython",
    "version": 3
   },
   "file_extension": ".py",
   "mimetype": "text/x-python",
   "name": "python",
   "nbconvert_exporter": "python",
   "pygments_lexer": "ipython3",
   "version": "3.11.5"
  }
 },
 "nbformat": 4,
 "nbformat_minor": 5
}
